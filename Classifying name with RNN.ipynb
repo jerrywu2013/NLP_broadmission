{
 "cells": [
  {
   "cell_type": "code",
   "execution_count": 4,
   "metadata": {},
   "outputs": [
    {
     "name": "stdout",
     "output_type": "stream",
     "text": [
      "['data/names/Arabic.txt', 'data/names/Chinese.txt', 'data/names/Czech.txt', 'data/names/Dutch.txt', 'data/names/English.txt', 'data/names/French.txt', 'data/names/German.txt', 'data/names/Greek.txt', 'data/names/Irish.txt', 'data/names/Italian.txt', 'data/names/Japanese.txt', 'data/names/Korean.txt', 'data/names/Polish.txt', 'data/names/Portuguese.txt', 'data/names/Russian.txt', 'data/names/Scottish.txt', 'data/names/Spanish.txt', 'data/names/Vietnamese.txt']\n"
     ]
    }
   ],
   "source": [
    "from __future__ import unicode_literals, print_function, division\n",
    "from io import open \n",
    "import glob \n",
    "import unicodedata \n",
    "import string\n",
    "import torch\n",
    "import torch.nn as nn\n",
    "import random\n",
    "\n",
    "\n",
    "def findFiles(path): \n",
    "    return glob.glob(path)\n",
    "\n",
    "print(findFiles('data/names/*.txt'))\n",
    "\n",
    "all_letters = string.ascii_letters + \" .,;'\"\n",
    "n_letters = len(all_letters)\n",
    "\n",
    "def unicodeToAscii(s):\n",
    "    return ''.join(\n",
    "        c for c in unicodedata.normalize('NFD', s)\n",
    "        if unicodedata.category(c) != 'Mn'\n",
    "        and c in all_letters\n",
    "    )\n",
    "\n",
    "category_lines = {} \n",
    "all_categories = [] \n",
    "\n",
    "def readLines(filename):\n",
    "    lines = open(filename, encoding='utf-8').read().strip().split('\\n')\n",
    "    return [line for line in lines]\n",
    "\n",
    "for filename in findFiles('data/names/*.txt'):\n",
    "    category = filename.split('/')[-1].split('.')[0]    \n",
    "    all_categories.append(category)\n",
    "    lines = readLines(filename) \n",
    "    category_lines[category] = lines \n",
    "\n",
    "n_categories = len(all_categories)"
   ]
  },
  {
   "cell_type": "code",
   "execution_count": 2,
   "metadata": {},
   "outputs": [],
   "source": [
    "def letterToIndex(letter):\n",
    "    return all_letters.find(letter)\n",
    "def letterToTensor(letter):\n",
    "    tensor = torch.zeros(1, n_letters)\n",
    "    tensor[0][letterToIndex(letter)] = 1\n",
    "    return tensor\n",
    "def lineToTensor(line):\n",
    "    tensor = torch.zeros(len(line), 1, n_letters)\n",
    "    for li, letter in enumerate(line):\n",
    "        tensor[li][0][letterToIndex(letter)] = 1\n",
    "    return tensor"
   ]
  },
  {
   "cell_type": "code",
   "execution_count": 159,
   "metadata": {
    "collapsed": true
   },
   "outputs": [],
   "source": [
    "class RNN(nn.Module):\n",
    "    def __init__(self, input_size, hidden_size, output_size):\n",
    "        super(RNN, self).__init__()\n",
    "\n",
    "        self.hidden_size = hidden_size\n",
    "\n",
    "        self.i2h = nn.Linear(input_size + hidden_size, hidden_size)\n",
    "        self.i2o = nn.Linear(input_size + hidden_size, output_size)\n",
    "        self.softmax = nn.LogSoftmax(dim=1) \n",
    "\n",
    "    def forward(self, input, hidden):\n",
    "        combined = torch.cat((input, hidden), 1) \n",
    "        hidden = self.i2h(combined)\n",
    "        output = self.i2o(combined) \n",
    "        output = self.softmax(output)\n",
    "        return output, hidden\n",
    "\n",
    "    def initHidden(self):\n",
    "        return torch.zeros(1, self.hidden_size)\n",
    "\n",
    "n_hidden = 128\n",
    "rnn = RNN(n_letters, n_hidden, n_categories) "
   ]
  },
  {
   "cell_type": "code",
   "execution_count": null,
   "metadata": {
    "collapsed": true
   },
   "outputs": [],
   "source": [
    "def categoryFromOutput(output): \n",
    "    top_n, top_i = output.topk(1)\n",
    "    category_i = top_i[0].item() \n",
    "    return all_categories[category_i], category_i"
   ]
  },
  {
   "cell_type": "code",
   "execution_count": 5,
   "metadata": {},
   "outputs": [
    {
     "name": "stdout",
     "output_type": "stream",
     "text": [
      "category = Korean / line = Yi\n",
      "category = Dutch / line = Klerks\n",
      "category = Portuguese / line = Almeida\n",
      "category = Greek / line = Bertsimas\n",
      "category = Portuguese / line = Vargas\n"
     ]
    }
   ],
   "source": [
    "def randomChoice(l):\n",
    "    return l[random.randint(0, len(l) - 1)] \n",
    "\n",
    "def randomTrainingExample():\n",
    "    category = randomChoice(all_categories) \n",
    "    line = randomChoice(category_lines[category]) \n",
    "    category_tensor = torch.tensor([all_categories.index(category)], dtype=torch.long)\n",
    "    line_tensor = lineToTensor(line) \n",
    "    return category, line, category_tensor, line_tensor\n",
    "\n",
    "for i in range(5):\n",
    "    category, line, category_tensor, line_tensor = randomTrainingExample()\n",
    "    print('category =', category, '/ line =', line)"
   ]
  },
  {
   "cell_type": "code",
   "execution_count": 162,
   "metadata": {
    "collapsed": true
   },
   "outputs": [],
   "source": [
    "criterion = nn.NLLLoss() "
   ]
  },
  {
   "cell_type": "code",
   "execution_count": 163,
   "metadata": {
    "collapsed": true
   },
   "outputs": [],
   "source": [
    "learning_rate = 0.005\n",
    "\n",
    "def train(category_tensor, line_tensor):\n",
    "    hidden = rnn.initHidden() \n",
    "\n",
    "    rnn.zero_grad() \n",
    "\n",
    "    for i in range(line_tensor.size()[0]): \n",
    "        output, hidden = rnn(line_tensor[i], hidden) #rnn(input[0], hidden) \n",
    "\n",
    "    loss = criterion(output, category_tensor) \n",
    "    loss.backward() \n",
    "\n",
    "    for p in rnn.parameters(): \n",
    "        p.data.add_(-learning_rate, p.grad.data)\n",
    "\n",
    "    return output, loss.item() "
   ]
  },
  {
   "cell_type": "code",
   "execution_count": 176,
   "metadata": {},
   "outputs": [
    {
     "name": "stdout",
     "output_type": "stream",
     "text": [
      "5000 5% (0m 5s) 1.4092 Rao / Vietnamese ✗ (Chinese)\n",
      "10000 10% (0m 11s) 1.5664 Teunissen / Dutch ✓\n",
      "15000 15% (0m 17s) 1.8509 Estévez / Polish ✗ (Spanish)\n",
      "20000 20% (0m 22s) 2.3377 Mcphee / Scottish ✗ (English)\n",
      "25000 25% (0m 27s) 0.5078 You / Korean ✓\n",
      "30000 30% (0m 33s) 0.8315 Chun / Korean ✓\n",
      "35000 35% (0m 39s) 1.0974 Acconcio / Italian ✓\n",
      "40000 40% (0m 44s) 2.5380 Winther / Arabic ✗ (German)\n",
      "45000 45% (0m 49s) 0.4715 O'Byrne / Irish ✓\n",
      "50000 50% (0m 56s) 1.6195 Movchun / Irish ✗ (Russian)\n",
      "55000 55% (1m 1s) 1.1086 Snyder / Dutch ✓\n",
      "60000 60% (1m 6s) 1.3461 Royer / French ✓\n",
      "65000 65% (1m 11s) 2.6547 Martel / Portuguese ✗ (French)\n",
      "70000 70% (1m 16s) 1.6927 Cann / Chinese ✗ (Dutch)\n",
      "75000 75% (1m 21s) 1.0708 Krupala / Czech ✓\n",
      "80000 80% (1m 27s) 2.6342 Sloan / Scottish ✗ (English)\n",
      "85000 85% (1m 31s) 0.1599 Hyun  / Korean ✓\n",
      "90000 90% (1m 37s) 1.3611 Casales / Portuguese ✗ (Spanish)\n",
      "95000 95% (1m 42s) 3.0162 Rios / Portuguese ✗ (Spanish)\n",
      "100000 100% (1m 48s) 1.5849 Ter Avest / French ✗ (Dutch)\n"
     ]
    }
   ],
   "source": [
    "import time\n",
    "import math\n",
    "\n",
    "n_iters = 100000\n",
    "print_every = 5000 \n",
    "plot_every = 1000 \n",
    "\n",
    "current_loss = 0 \n",
    "all_losses = [] \n",
    "\n",
    "def timeSince(since):\n",
    "    now = time.time()\n",
    "    s = now - since \n",
    "    m = math.floor(s / 60)\n",
    "    s -= m * 60\n",
    "    return '%dm %ds' % (m, s)\n",
    "\n",
    "start = time.time()\n",
    "\n",
    "for iter in range(1, n_iters + 1): \n",
    "    category, line, category_tensor, line_tensor = randomTrainingExample() \n",
    "    output, loss = train(category_tensor, line_tensor) \n",
    "    current_loss += loss \n",
    "\n",
    "    if iter % print_every == 0: \n",
    "        guess, guess_i = categoryFromOutput(output) \n",
    "        correct = '✓' if guess == category else '✗ (%s)' % category\n",
    "        print('%d %d%% (%s) %.4f %s / %s %s' % (iter, iter / n_iters * 100, timeSince(start), loss, line, guess, correct))\n",
    "\n",
    "    if iter % plot_every == 0: \n",
    "        all_losses.append(current_loss / plot_every)\n",
    "        current_loss = 0"
   ]
  },
  {
   "cell_type": "code",
   "execution_count": 175,
   "metadata": {},
   "outputs": [
    {
     "data": {
      "image/png": "[encoded data removed]",
      "text/plain": [
       "<Figure size 432x288 with 1 Axes>"
      ]
     },
     "metadata": {},
     "output_type": "display_data"
    }
   ],
   "source": [
    "import matplotlib.pyplot as plt\n",
    "import matplotlib.ticker as ticker\n",
    "\n",
    "plt.figure()\n",
    "plt.plot(all_losses)\n",
    "\n",
    "confusion = torch.zeros(n_categories, n_categories)\n",
    "n_confusion = 10000\n",
    "\n",
    "\n",
    "def evaluate(line_tensor):\n",
    "    hidden = rnn.initHidden()\n",
    "\n",
    "    for i in range(line_tensor.size()[0]):\n",
    "        output, hidden = rnn(line_tensor[i], hidden)\n",
    "\n",
    "    return output\n",
    "\n",
    "for i in range(n_confusion):\n",
    "    category, line, category_tensor, line_tensor = randomTrainingExample()\n",
    "    output = evaluate(line_tensor)\n",
    "    guess, guess_i = categoryFromOutput(output)\n",
    "    category_i = all_categories.index(category)\n",
    "    confusion[category_i][guess_i] += 1\n",
    "\n",
    "for i in range(n_categories):\n",
    "    confusion[i] = confusion[i] / confusion[i].sum()\n",
    "\n",
    "fig = plt.figure()\n",
    "ax = fig.add_subplot(111)\n",
    "cax = ax.matshow(confusion.numpy())\n",
    "fig.colorbar(cax)\n",
    "\n",
    "ax.set_xticklabels([''] + all_categories, rotation=90)\n",
    "ax.set_yticklabels([''] + all_categories)\n",
    "\n",
    "ax.xaxis.set_major_locator(ticker.MultipleLocator(1))\n",
    "ax.yaxis.set_major_locator(ticker.MultipleLocator(1))\n",
    "\n",
    "plt.show()"
   ]
  },
  {
   "cell_type": "code",
   "execution_count": 203,
   "metadata": {},
   "outputs": [
    {
     "name": "stdout",
     "output_type": "stream",
     "text": [
      "\n",
      "> Bill\n",
      "Irish\n",
      "English\n",
      "Scottish\n",
      "German\n",
      "Czech\n",
      "\n",
      "> Jerry\n",
      "Scottish\n",
      "English\n",
      "French\n",
      "Czech\n",
      "Dutch\n"
     ]
    }
   ],
   "source": [
    "\n",
    "def predict(input_line, n_predictions=5): \n",
    "    print('\\n> %s' % input_line) \n",
    "    with torch.no_grad(): \n",
    "        output = evaluate(lineToTensor(input_line))\n",
    "\n",
    "        topv, topi = output.topk(n_predictions, 1) \n",
    "        predictions = []\n",
    "\n",
    "        for i in range(n_predictions): \n",
    "            value = topv[0][i].item() \n",
    "            category_index = topi[0][i].item() \n",
    "            print(all_categories[category_index]) \n",
    "            #print('(%.2f) %s' % (value, all_categories[category_index]))\n",
    "            predictions.append([value, all_categories[category_index]])\n",
    "\n",
    "predict('Bill')\n",
    "predict('Jerry')"
   ]
  }
 ],
 "metadata": {
  "kernelspec": {
   "display_name": "Python 3",
   "language": "python",
   "name": "python3"
  },
  "language_info": {
   "codemirror_mode": {
    "name": "ipython",
    "version": 3
   },
   "file_extension": ".py",
   "mimetype": "text/x-python",
   "name": "python",
   "nbconvert_exporter": "python",
   "pygments_lexer": "ipython3",
   "version": "3.6.3"
  }
 },
 "nbformat": 4,
 "nbformat_minor": 2
}
